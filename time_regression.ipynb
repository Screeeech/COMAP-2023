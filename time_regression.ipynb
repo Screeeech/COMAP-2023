{
 "cells": [
  {
   "cell_type": "code",
<<<<<<< Updated upstream
   "execution_count": null,
=======
   "execution_count": 5,
   "metadata": {
    "collapsed": false,
    "jupyter": {
     "outputs_hidden": false
    },
    "pycharm": {
     "name": "#%%\n"
    }
   },
>>>>>>> Stashed changes
   "outputs": [],
   "source": [
    "import pandas as pd\n",
    "import numpy as np\n",
    "import matplotlib.pyplot as plt\n",
    "from scipy.optimize import curve_fit\n",
<<<<<<< Updated upstream
    "import datetime "
   ],
=======
    "import datetime \n",
    "import hyphenate as hy"
   ]
  },
  {
   "cell_type": "code",
   "execution_count": 6,
>>>>>>> Stashed changes
   "metadata": {
    "collapsed": false,
    "pycharm": {
     "name": "#%%\n"
    }
<<<<<<< Updated upstream
   }
  },
  {
   "cell_type": "code",
   "execution_count": null,
   "outputs": [],
=======
   },
   "outputs": [
    {
     "name": "stdout",
     "output_type": "stream",
     "text": [
      "<class 'str'>\n"
     ]
    },
    {
     "data": {
      "text/html": [
       "<div>\n",
       "<style scoped>\n",
       "    .dataframe tbody tr th:only-of-type {\n",
       "        vertical-align: middle;\n",
       "    }\n",
       "\n",
       "    .dataframe tbody tr th {\n",
       "        vertical-align: top;\n",
       "    }\n",
       "\n",
       "    .dataframe thead th {\n",
       "        text-align: right;\n",
       "    }\n",
       "</style>\n",
       "<table border=\"1\" class=\"dataframe\">\n",
       "  <thead>\n",
       "    <tr style=\"text-align: right;\">\n",
       "      <th></th>\n",
       "      <th>Date</th>\n",
       "      <th>Contest number</th>\n",
       "      <th>Word</th>\n",
       "      <th>Number of  reported results</th>\n",
       "      <th>Number in hard mode</th>\n",
       "      <th>1 try</th>\n",
       "      <th>2 tries</th>\n",
       "      <th>3 tries</th>\n",
       "      <th>4 tries</th>\n",
       "      <th>5 tries</th>\n",
       "      <th>6 tries</th>\n",
       "      <th>7 or more tries (X)</th>\n",
       "      <th>Proportion of Weekly Results</th>\n",
       "      <th>Difficulty Score</th>\n",
       "    </tr>\n",
       "  </thead>\n",
       "  <tbody>\n",
       "    <tr>\n",
       "      <th>0</th>\n",
       "      <td>Saturday</td>\n",
       "      <td>560</td>\n",
       "      <td>manly</td>\n",
       "      <td>20380</td>\n",
       "      <td>1899</td>\n",
       "      <td>0</td>\n",
       "      <td>2</td>\n",
       "      <td>17</td>\n",
       "      <td>37</td>\n",
       "      <td>29</td>\n",
       "      <td>12</td>\n",
       "      <td>2</td>\n",
       "      <td>1970-01-01 00:00:00.000000000</td>\n",
       "      <td>1970-01-01 00:00:00.000000000</td>\n",
       "    </tr>\n",
       "    <tr>\n",
       "      <th>1</th>\n",
       "      <td>Friday</td>\n",
       "      <td>559</td>\n",
       "      <td>molar</td>\n",
       "      <td>21204</td>\n",
       "      <td>1973</td>\n",
       "      <td>0</td>\n",
       "      <td>4</td>\n",
       "      <td>21</td>\n",
       "      <td>38</td>\n",
       "      <td>26</td>\n",
       "      <td>9</td>\n",
       "      <td>1</td>\n",
       "      <td>1970-01-01 00:00:00.000000037</td>\n",
       "      <td>1970-01-01 00:00:00.000000037</td>\n",
       "    </tr>\n",
       "    <tr>\n",
       "      <th>2</th>\n",
       "      <td>Thursday</td>\n",
       "      <td>558</td>\n",
       "      <td>havoc</td>\n",
       "      <td>20001</td>\n",
       "      <td>1919</td>\n",
       "      <td>0</td>\n",
       "      <td>2</td>\n",
       "      <td>16</td>\n",
       "      <td>38</td>\n",
       "      <td>30</td>\n",
       "      <td>12</td>\n",
       "      <td>2</td>\n",
       "      <td>1970-01-02 14:58:09.593215488</td>\n",
       "      <td>1970-01-02 14:58:09.593221632</td>\n",
       "    </tr>\n",
       "    <tr>\n",
       "      <th>3</th>\n",
       "      <td>Wednesday</td>\n",
       "      <td>557</td>\n",
       "      <td>impel</td>\n",
       "      <td>20160</td>\n",
       "      <td>1937</td>\n",
       "      <td>0</td>\n",
       "      <td>3</td>\n",
       "      <td>21</td>\n",
       "      <td>40</td>\n",
       "      <td>25</td>\n",
       "      <td>9</td>\n",
       "      <td>1</td>\n",
       "      <td>1970-01-01 00:00:00.000000050</td>\n",
       "      <td>1970-01-01 00:00:00.000000074</td>\n",
       "    </tr>\n",
       "    <tr>\n",
       "      <th>4</th>\n",
       "      <td>Tuesday</td>\n",
       "      <td>556</td>\n",
       "      <td>condo</td>\n",
       "      <td>20879</td>\n",
       "      <td>2012</td>\n",
       "      <td>0</td>\n",
       "      <td>2</td>\n",
       "      <td>17</td>\n",
       "      <td>35</td>\n",
       "      <td>29</td>\n",
       "      <td>14</td>\n",
       "      <td>3</td>\n",
       "      <td>1970-01-01 00:00:00.000000004</td>\n",
       "      <td>1970-01-01 00:00:00.000000004</td>\n",
       "    </tr>\n",
       "    <tr>\n",
       "      <th>...</th>\n",
       "      <td>...</td>\n",
       "      <td>...</td>\n",
       "      <td>...</td>\n",
       "      <td>...</td>\n",
       "      <td>...</td>\n",
       "      <td>...</td>\n",
       "      <td>...</td>\n",
       "      <td>...</td>\n",
       "      <td>...</td>\n",
       "      <td>...</td>\n",
       "      <td>...</td>\n",
       "      <td>...</td>\n",
       "      <td>...</td>\n",
       "      <td>...</td>\n",
       "    </tr>\n",
       "    <tr>\n",
       "      <th>352</th>\n",
       "      <td>Thursday</td>\n",
       "      <td>208</td>\n",
       "      <td>abbey</td>\n",
       "      <td>132726</td>\n",
       "      <td>3345</td>\n",
       "      <td>1</td>\n",
       "      <td>2</td>\n",
       "      <td>13</td>\n",
       "      <td>29</td>\n",
       "      <td>31</td>\n",
       "      <td>20</td>\n",
       "      <td>3</td>\n",
       "      <td>1970-01-01 00:00:00.000000352</td>\n",
       "      <td>1970-01-01 00:00:00.000000352</td>\n",
       "    </tr>\n",
       "    <tr>\n",
       "      <th>353</th>\n",
       "      <td>Wednesday</td>\n",
       "      <td>207</td>\n",
       "      <td>favor</td>\n",
       "      <td>137586</td>\n",
       "      <td>3073</td>\n",
       "      <td>1</td>\n",
       "      <td>4</td>\n",
       "      <td>15</td>\n",
       "      <td>26</td>\n",
       "      <td>29</td>\n",
       "      <td>21</td>\n",
       "      <td>4</td>\n",
       "      <td>1970-01-01 00:00:00.000000353</td>\n",
       "      <td>1970-01-01 00:00:00.000000353</td>\n",
       "    </tr>\n",
       "    <tr>\n",
       "      <th>354</th>\n",
       "      <td>Tuesday</td>\n",
       "      <td>206</td>\n",
       "      <td>drink</td>\n",
       "      <td>153880</td>\n",
       "      <td>3017</td>\n",
       "      <td>1</td>\n",
       "      <td>9</td>\n",
       "      <td>35</td>\n",
       "      <td>34</td>\n",
       "      <td>16</td>\n",
       "      <td>5</td>\n",
       "      <td>1</td>\n",
       "      <td>1970-01-01 00:00:00.000000354</td>\n",
       "      <td>1970-01-01 00:00:00.000000354</td>\n",
       "    </tr>\n",
       "    <tr>\n",
       "      <th>355</th>\n",
       "      <td>Monday</td>\n",
       "      <td>205</td>\n",
       "      <td>query</td>\n",
       "      <td>107134</td>\n",
       "      <td>2242</td>\n",
       "      <td>1</td>\n",
       "      <td>4</td>\n",
       "      <td>16</td>\n",
       "      <td>30</td>\n",
       "      <td>30</td>\n",
       "      <td>17</td>\n",
       "      <td>2</td>\n",
       "      <td>1970-01-01 00:00:00.000000355</td>\n",
       "      <td>1970-01-01 00:00:00.000000355</td>\n",
       "    </tr>\n",
       "    <tr>\n",
       "      <th>356</th>\n",
       "      <td>Sunday</td>\n",
       "      <td>204</td>\n",
       "      <td>gorge</td>\n",
       "      <td>91477</td>\n",
       "      <td>1913</td>\n",
       "      <td>1</td>\n",
       "      <td>3</td>\n",
       "      <td>13</td>\n",
       "      <td>27</td>\n",
       "      <td>30</td>\n",
       "      <td>22</td>\n",
       "      <td>4</td>\n",
       "      <td>1970-01-01 00:00:00.000000356</td>\n",
       "      <td>1970-01-01 00:00:00.000000356</td>\n",
       "    </tr>\n",
       "  </tbody>\n",
       "</table>\n",
       "<p>357 rows × 14 columns</p>\n",
       "</div>"
      ],
      "text/plain": [
       "          Date  Contest number    Word  Number of  reported results  \\\n",
       "0     Saturday             560   manly                        20380   \n",
       "1       Friday             559   molar                        21204   \n",
       "2     Thursday             558   havoc                        20001   \n",
       "3    Wednesday             557   impel                        20160   \n",
       "4      Tuesday             556   condo                        20879   \n",
       "..         ...             ...     ...                          ...   \n",
       "352   Thursday             208   abbey                       132726   \n",
       "353  Wednesday             207  favor                        137586   \n",
       "354    Tuesday             206   drink                       153880   \n",
       "355     Monday             205   query                       107134   \n",
       "356     Sunday             204   gorge                        91477   \n",
       "\n",
       "     Number in hard mode  1 try  2 tries  3 tries  4 tries  5 tries  6 tries  \\\n",
       "0                   1899      0        2       17       37       29       12   \n",
       "1                   1973      0        4       21       38       26        9   \n",
       "2                   1919      0        2       16       38       30       12   \n",
       "3                   1937      0        3       21       40       25        9   \n",
       "4                   2012      0        2       17       35       29       14   \n",
       "..                   ...    ...      ...      ...      ...      ...      ...   \n",
       "352                 3345      1        2       13       29       31       20   \n",
       "353                 3073      1        4       15       26       29       21   \n",
       "354                 3017      1        9       35       34       16        5   \n",
       "355                 2242      1        4       16       30       30       17   \n",
       "356                 1913      1        3       13       27       30       22   \n",
       "\n",
       "     7 or more tries (X)  Proportion of Weekly Results  \\\n",
       "0                      2 1970-01-01 00:00:00.000000000   \n",
       "1                      1 1970-01-01 00:00:00.000000037   \n",
       "2                      2 1970-01-02 14:58:09.593215488   \n",
       "3                      1 1970-01-01 00:00:00.000000050   \n",
       "4                      3 1970-01-01 00:00:00.000000004   \n",
       "..                   ...                           ...   \n",
       "352                    3 1970-01-01 00:00:00.000000352   \n",
       "353                    4 1970-01-01 00:00:00.000000353   \n",
       "354                    1 1970-01-01 00:00:00.000000354   \n",
       "355                    2 1970-01-01 00:00:00.000000355   \n",
       "356                    4 1970-01-01 00:00:00.000000356   \n",
       "\n",
       "                 Difficulty Score  \n",
       "0   1970-01-01 00:00:00.000000000  \n",
       "1   1970-01-01 00:00:00.000000037  \n",
       "2   1970-01-02 14:58:09.593221632  \n",
       "3   1970-01-01 00:00:00.000000074  \n",
       "4   1970-01-01 00:00:00.000000004  \n",
       "..                            ...  \n",
       "352 1970-01-01 00:00:00.000000352  \n",
       "353 1970-01-01 00:00:00.000000353  \n",
       "354 1970-01-01 00:00:00.000000354  \n",
       "355 1970-01-01 00:00:00.000000355  \n",
       "356 1970-01-01 00:00:00.000000356  \n",
       "\n",
       "[357 rows x 14 columns]"
      ]
     },
     "execution_count": 6,
     "metadata": {},
     "output_type": "execute_result"
    }
   ],
>>>>>>> Stashed changes
   "source": [
    "data = pd.read_excel('Problem_C_Data_Wordle.xlsx', header=1)\n",
    "data.drop(['Unnamed: 0'], axis=1, inplace=True)\n",
    "data.drop(358, inplace=True)\n",
    "\n",
    "data.drop(357, inplace=True)\n",
    "data[\"Proportion of Weekly Results\"] = np.empty_like(data[\"Date\"])\n",
    "data[\"Difficulty Score\"] = np.empty_like(data[\"Date\"])\n",
    "data[\"Date\"] = pd.to_datetime(data[\"Date\"], format = \"%yyyy-%mm-%dd\").dt.day_name()\n",
    "print(type(data[\"Date\"][0]))\n",
    "data"
   ],
   "metadata": {
    "collapsed": false,
    "pycharm": {
     "name": "#%%\n"
    }
   }
  },
  {
   "cell_type": "code",
   "execution_count": null,
   "outputs": [],
   "source": [
    "# c_df = pd.read_csv('corrected_data.csv')\n",
    "# c_df\n",
    "# c_df[\"Day of Week\"] = data[\"Date\"]\n",
    "# c_df = c_df.to_csv(\"corrected_weekdays_data.csv\")"
   ],
   "metadata": {
    "collapsed": false,
    "pycharm": {
     "name": "#%%\n"
    }
   }
  },
  {
   "cell_type": "code",
   "execution_count": null,
   "outputs": [],
   "source": [
    "linspace = np.linspace(0, 332, 360)\n",
    "plt.plot(data['Date'][:332], data['Number of  reported results'][:332])"
   ],
   "metadata": {
    "collapsed": false,
    "pycharm": {
     "name": "#%%\n"
    }
   }
  },
  {
   "cell_type": "code",
   "execution_count": null,
   "outputs": [],
<<<<<<< Updated upstream
   "source": [
    "x = 359 - np.array([i for i in range(332)])\n",
    "y = data['Number of  reported results'][:332]\n",
    "\n",
    "a = 350000\n",
    "b = -10\n",
    "c = 50\n",
    "\n",
    "def exp_func(x, a, b):\n",
    "    return a*x+b\n",
    "\n",
    "popt, pcov = curve_fit(lin_func, x, np.log(y), p0=(a, b))"
   ],
=======
   "source": []
  },
  {
   "cell_type": "code",
   "execution_count": null,
>>>>>>> Stashed changes
   "metadata": {
    "collapsed": false,
    "pycharm": {
     "name": "#%%\n"
    }
<<<<<<< Updated upstream
   }
  },
  {
   "cell_type": "code",
   "execution_count": null,
   "outputs": [],
   "source": [
    "plt.plot(x,y)\n",
    "plt.plot(x, np.exp(lin_func(x, *popt)))"
   ],
   "metadata": {
    "collapsed": false,
    "pycharm": {
     "name": "#%%\n"
    }
   }
  },
  {
   "cell_type": "code",
   "execution_count": null,
   "outputs": [],
   "source": [
    "popt"
   ],
   "metadata": {
    "collapsed": false,
    "pycharm": {
     "name": "#%%\n"
    }
   }
  },
  {
   "cell_type": "code",
   "execution_count": null,
   "outputs": [],
   "source": [
    "sum = 0\n",
    "count = 0\n",
    "\n",
    "while(count < 357):\n",
    "    sum += data[\"Number of  reported results\"][count]\n",
    "    if count % 7 == 6:\n",
    "        for i in range(count - 6, count + 1):\n",
    "            data[\"Proportion of Weekly Results\"][i] = data[\"Number of  reported results\"][i] / sum\n",
    "        sum = 0\n",
    "    count += 1\n",
    "    \n",
    "    \n",
    "    \n",
    "            \n",
    "    \n",
    "    "
   ],
   "metadata": {
    "collapsed": false,
    "pycharm": {
     "name": "#%%\n"
    }
   }
  },
  {
   "cell_type": "code",
   "execution_count": null,
   "outputs": [],
   "source": [
    "data"
   ],
   "metadata": {
    "collapsed": false,
    "pycharm": {
     "name": "#%%\n"
    }
   }
  },
  {
   "cell_type": "code",
   "execution_count": null,
   "outputs": [],
   "source": [],
   "metadata": {
    "collapsed": false,
    "pycharm": {
     "name": "#%%\n"
    }
   }
  },
  {
   "cell_type": "code",
   "execution_count": null,
   "outputs": [],
   "source": [],
   "metadata": {
    "collapsed": false,
    "pycharm": {
     "name": "#%%\n"
    }
   }
  },
  {
   "cell_type": "code",
   "execution_count": null,
   "outputs": [],
   "source": [
    "data[['Date', 'Number of  reported results']].groupby('Date').mean().plot(kind='bar', legend=None)\n"
   ],
   "metadata": {
    "collapsed": false,
    "pycharm": {
     "name": "#%%\n"
    }
   }
  },
  {
   "cell_type": "code",
   "execution_count": null,
   "outputs": [],
   "source": [],
   "metadata": {
    "collapsed": false,
    "pycharm": {
     "name": "#%%\n"
    }
   }
=======
   },
   "outputs": [],
   "source": []
>>>>>>> Stashed changes
  },
  {
   "cell_type": "code",
   "execution_count": null,
   "metadata": {
    "collapsed": false,
    "jupyter": {
     "outputs_hidden": false
    },
    "pycharm": {
     "name": "#%%\n"
    }
   },
<<<<<<< Updated upstream
   "outputs": [
    {
     "ename": "NameError",
     "evalue": "name 'popt' is not defined",
     "output_type": "error",
     "traceback": [
      "\u001B[0;31m---------------------------------------------------------------------------\u001B[0m",
      "\u001B[0;31mNameError\u001B[0m                                 Traceback (most recent call last)",
      "Input \u001B[0;32mIn [47]\u001B[0m, in \u001B[0;36m<cell line: 1>\u001B[0;34m()\u001B[0m\n\u001B[0;32m----> 1\u001B[0m \u001B[43mpopt\u001B[49m\n",
      "\u001B[0;31mNameError\u001B[0m: name 'popt' is not defined"
     ]
    }
   ],
   "source": [
    "popt"
   ]
=======
   "outputs": [],
   "source": []
>>>>>>> Stashed changes
  },
  {
   "cell_type": "code",
   "execution_count": 7,
   "metadata": {},
   "outputs": [
    {
     "name": "stderr",
     "output_type": "stream",
     "text": [
      "/var/folders/t0/75071t057mj9v1sl_fygq22w0000gn/T/ipykernel_87699/1623920794.py:8: SettingWithCopyWarning: \n",
      "A value is trying to be set on a copy of a slice from a DataFrame\n",
      "\n",
      "See the caveats in the documentation: https://pandas.pydata.org/pandas-docs/stable/user_guide/indexing.html#returning-a-view-versus-a-copy\n",
      "  data[\"Proportion of Weekly Results\"][i] = data[\"Number of  reported results\"][i] / sum\n",
      "/var/folders/t0/75071t057mj9v1sl_fygq22w0000gn/T/ipykernel_87699/1623920794.py:8: SettingWithCopyWarning: \n",
      "A value is trying to be set on a copy of a slice from a DataFrame\n",
      "\n",
      "See the caveats in the documentation: https://pandas.pydata.org/pandas-docs/stable/user_guide/indexing.html#returning-a-view-versus-a-copy\n",
      "  data[\"Proportion of Weekly Results\"][i] = data[\"Number of  reported results\"][i] / sum\n"
     ]
    }
   ],
   "source": [
    "sum = 0\n",
    "count = 0\n",
    "\n",
    "while(count < 357):\n",
    "    sum += data[\"Number of  reported results\"][count]\n",
    "    if count % 7 == 6:\n",
    "        for i in range(count - 6, count + 1):\n",
    "            data[\"Proportion of Weekly Results\"][i] = data[\"Number of  reported results\"][i] / sum\n",
    "        sum = 0\n",
    "    count += 1\n",
    "    \n",
    "    \n",
    "    \n",
    "            \n",
    "    \n",
    "    "
   ]
  },
  {
   "cell_type": "code",
   "execution_count": 8,
   "metadata": {},
   "outputs": [
    {
     "data": {
      "text/html": [
       "<div>\n",
       "<style scoped>\n",
       "    .dataframe tbody tr th:only-of-type {\n",
       "        vertical-align: middle;\n",
       "    }\n",
       "\n",
       "    .dataframe tbody tr th {\n",
       "        vertical-align: top;\n",
       "    }\n",
       "\n",
       "    .dataframe thead th {\n",
       "        text-align: right;\n",
       "    }\n",
       "</style>\n",
       "<table border=\"1\" class=\"dataframe\">\n",
       "  <thead>\n",
       "    <tr style=\"text-align: right;\">\n",
       "      <th></th>\n",
       "      <th>Date</th>\n",
       "      <th>Contest number</th>\n",
       "      <th>Word</th>\n",
       "      <th>Number of  reported results</th>\n",
       "      <th>Number in hard mode</th>\n",
       "      <th>1 try</th>\n",
       "      <th>2 tries</th>\n",
       "      <th>3 tries</th>\n",
       "      <th>4 tries</th>\n",
       "      <th>5 tries</th>\n",
       "      <th>6 tries</th>\n",
       "      <th>7 or more tries (X)</th>\n",
       "      <th>Proportion of Weekly Results</th>\n",
       "      <th>Difficulty Score</th>\n",
       "    </tr>\n",
       "  </thead>\n",
       "  <tbody>\n",
       "    <tr>\n",
       "      <th>0</th>\n",
       "      <td>Saturday</td>\n",
       "      <td>560</td>\n",
       "      <td>manly</td>\n",
       "      <td>20380</td>\n",
       "      <td>1899</td>\n",
       "      <td>0</td>\n",
       "      <td>2</td>\n",
       "      <td>17</td>\n",
       "      <td>37</td>\n",
       "      <td>29</td>\n",
       "      <td>12</td>\n",
       "      <td>2</td>\n",
       "      <td>0.147479</td>\n",
       "      <td>1970-01-01 00:00:00.000000000</td>\n",
       "    </tr>\n",
       "    <tr>\n",
       "      <th>1</th>\n",
       "      <td>Friday</td>\n",
       "      <td>559</td>\n",
       "      <td>molar</td>\n",
       "      <td>21204</td>\n",
       "      <td>1973</td>\n",
       "      <td>0</td>\n",
       "      <td>4</td>\n",
       "      <td>21</td>\n",
       "      <td>38</td>\n",
       "      <td>26</td>\n",
       "      <td>9</td>\n",
       "      <td>1</td>\n",
       "      <td>0.153442</td>\n",
       "      <td>1970-01-01 00:00:00.000000037</td>\n",
       "    </tr>\n",
       "    <tr>\n",
       "      <th>2</th>\n",
       "      <td>Thursday</td>\n",
       "      <td>558</td>\n",
       "      <td>havoc</td>\n",
       "      <td>20001</td>\n",
       "      <td>1919</td>\n",
       "      <td>0</td>\n",
       "      <td>2</td>\n",
       "      <td>16</td>\n",
       "      <td>38</td>\n",
       "      <td>30</td>\n",
       "      <td>12</td>\n",
       "      <td>2</td>\n",
       "      <td>0.144737</td>\n",
       "      <td>1970-01-02 14:58:09.593221632</td>\n",
       "    </tr>\n",
       "    <tr>\n",
       "      <th>3</th>\n",
       "      <td>Wednesday</td>\n",
       "      <td>557</td>\n",
       "      <td>impel</td>\n",
       "      <td>20160</td>\n",
       "      <td>1937</td>\n",
       "      <td>0</td>\n",
       "      <td>3</td>\n",
       "      <td>21</td>\n",
       "      <td>40</td>\n",
       "      <td>25</td>\n",
       "      <td>9</td>\n",
       "      <td>1</td>\n",
       "      <td>0.145887</td>\n",
       "      <td>1970-01-01 00:00:00.000000074</td>\n",
       "    </tr>\n",
       "    <tr>\n",
       "      <th>4</th>\n",
       "      <td>Tuesday</td>\n",
       "      <td>556</td>\n",
       "      <td>condo</td>\n",
       "      <td>20879</td>\n",
       "      <td>2012</td>\n",
       "      <td>0</td>\n",
       "      <td>2</td>\n",
       "      <td>17</td>\n",
       "      <td>35</td>\n",
       "      <td>29</td>\n",
       "      <td>14</td>\n",
       "      <td>3</td>\n",
       "      <td>0.15109</td>\n",
       "      <td>1970-01-01 00:00:00.000000004</td>\n",
       "    </tr>\n",
       "    <tr>\n",
       "      <th>...</th>\n",
       "      <td>...</td>\n",
       "      <td>...</td>\n",
       "      <td>...</td>\n",
       "      <td>...</td>\n",
       "      <td>...</td>\n",
       "      <td>...</td>\n",
       "      <td>...</td>\n",
       "      <td>...</td>\n",
       "      <td>...</td>\n",
       "      <td>...</td>\n",
       "      <td>...</td>\n",
       "      <td>...</td>\n",
       "      <td>...</td>\n",
       "      <td>...</td>\n",
       "    </tr>\n",
       "    <tr>\n",
       "      <th>352</th>\n",
       "      <td>Thursday</td>\n",
       "      <td>208</td>\n",
       "      <td>abbey</td>\n",
       "      <td>132726</td>\n",
       "      <td>3345</td>\n",
       "      <td>1</td>\n",
       "      <td>2</td>\n",
       "      <td>13</td>\n",
       "      <td>29</td>\n",
       "      <td>31</td>\n",
       "      <td>20</td>\n",
       "      <td>3</td>\n",
       "      <td>0.13297</td>\n",
       "      <td>1970-01-01 00:00:00.000000352</td>\n",
       "    </tr>\n",
       "    <tr>\n",
       "      <th>353</th>\n",
       "      <td>Wednesday</td>\n",
       "      <td>207</td>\n",
       "      <td>favor</td>\n",
       "      <td>137586</td>\n",
       "      <td>3073</td>\n",
       "      <td>1</td>\n",
       "      <td>4</td>\n",
       "      <td>15</td>\n",
       "      <td>26</td>\n",
       "      <td>29</td>\n",
       "      <td>21</td>\n",
       "      <td>4</td>\n",
       "      <td>0.137839</td>\n",
       "      <td>1970-01-01 00:00:00.000000353</td>\n",
       "    </tr>\n",
       "    <tr>\n",
       "      <th>354</th>\n",
       "      <td>Tuesday</td>\n",
       "      <td>206</td>\n",
       "      <td>drink</td>\n",
       "      <td>153880</td>\n",
       "      <td>3017</td>\n",
       "      <td>1</td>\n",
       "      <td>9</td>\n",
       "      <td>35</td>\n",
       "      <td>34</td>\n",
       "      <td>16</td>\n",
       "      <td>5</td>\n",
       "      <td>1</td>\n",
       "      <td>0.154163</td>\n",
       "      <td>1970-01-01 00:00:00.000000354</td>\n",
       "    </tr>\n",
       "    <tr>\n",
       "      <th>355</th>\n",
       "      <td>Monday</td>\n",
       "      <td>205</td>\n",
       "      <td>query</td>\n",
       "      <td>107134</td>\n",
       "      <td>2242</td>\n",
       "      <td>1</td>\n",
       "      <td>4</td>\n",
       "      <td>16</td>\n",
       "      <td>30</td>\n",
       "      <td>30</td>\n",
       "      <td>17</td>\n",
       "      <td>2</td>\n",
       "      <td>0.107331</td>\n",
       "      <td>1970-01-01 00:00:00.000000355</td>\n",
       "    </tr>\n",
       "    <tr>\n",
       "      <th>356</th>\n",
       "      <td>Sunday</td>\n",
       "      <td>204</td>\n",
       "      <td>gorge</td>\n",
       "      <td>91477</td>\n",
       "      <td>1913</td>\n",
       "      <td>1</td>\n",
       "      <td>3</td>\n",
       "      <td>13</td>\n",
       "      <td>27</td>\n",
       "      <td>30</td>\n",
       "      <td>22</td>\n",
       "      <td>4</td>\n",
       "      <td>0.091645</td>\n",
       "      <td>1970-01-01 00:00:00.000000356</td>\n",
       "    </tr>\n",
       "  </tbody>\n",
       "</table>\n",
       "<p>357 rows × 14 columns</p>\n",
       "</div>"
      ],
      "text/plain": [
       "          Date  Contest number    Word  Number of  reported results  \\\n",
       "0     Saturday             560   manly                        20380   \n",
       "1       Friday             559   molar                        21204   \n",
       "2     Thursday             558   havoc                        20001   \n",
       "3    Wednesday             557   impel                        20160   \n",
       "4      Tuesday             556   condo                        20879   \n",
       "..         ...             ...     ...                          ...   \n",
       "352   Thursday             208   abbey                       132726   \n",
       "353  Wednesday             207  favor                        137586   \n",
       "354    Tuesday             206   drink                       153880   \n",
       "355     Monday             205   query                       107134   \n",
       "356     Sunday             204   gorge                        91477   \n",
       "\n",
       "     Number in hard mode  1 try  2 tries  3 tries  4 tries  5 tries  6 tries  \\\n",
       "0                   1899      0        2       17       37       29       12   \n",
       "1                   1973      0        4       21       38       26        9   \n",
       "2                   1919      0        2       16       38       30       12   \n",
       "3                   1937      0        3       21       40       25        9   \n",
       "4                   2012      0        2       17       35       29       14   \n",
       "..                   ...    ...      ...      ...      ...      ...      ...   \n",
       "352                 3345      1        2       13       29       31       20   \n",
       "353                 3073      1        4       15       26       29       21   \n",
       "354                 3017      1        9       35       34       16        5   \n",
       "355                 2242      1        4       16       30       30       17   \n",
       "356                 1913      1        3       13       27       30       22   \n",
       "\n",
       "     7 or more tries (X) Proportion of Weekly Results  \\\n",
       "0                      2                     0.147479   \n",
       "1                      1                     0.153442   \n",
       "2                      2                     0.144737   \n",
       "3                      1                     0.145887   \n",
       "4                      3                      0.15109   \n",
       "..                   ...                          ...   \n",
       "352                    3                      0.13297   \n",
       "353                    4                     0.137839   \n",
       "354                    1                     0.154163   \n",
       "355                    2                     0.107331   \n",
       "356                    4                     0.091645   \n",
       "\n",
       "                 Difficulty Score  \n",
       "0   1970-01-01 00:00:00.000000000  \n",
       "1   1970-01-01 00:00:00.000000037  \n",
       "2   1970-01-02 14:58:09.593221632  \n",
       "3   1970-01-01 00:00:00.000000074  \n",
       "4   1970-01-01 00:00:00.000000004  \n",
       "..                            ...  \n",
       "352 1970-01-01 00:00:00.000000352  \n",
       "353 1970-01-01 00:00:00.000000353  \n",
       "354 1970-01-01 00:00:00.000000354  \n",
       "355 1970-01-01 00:00:00.000000355  \n",
       "356 1970-01-01 00:00:00.000000356  \n",
       "\n",
       "[357 rows x 14 columns]"
      ]
     },
     "execution_count": 8,
     "metadata": {},
     "output_type": "execute_result"
    }
   ],
   "source": [
    "data"
   ]
  },
  {
   "cell_type": "code",
   "execution_count": null,
   "metadata": {},
   "outputs": [],
   "source": []
  },
  {
   "cell_type": "code",
   "execution_count": null,
   "metadata": {},
   "outputs": [],
   "source": []
  },
  {
   "cell_type": "code",
   "execution_count": 9,
   "metadata": {
    "collapsed": false,
    "jupyter": {
     "outputs_hidden": false
    },
    "pycharm": {
     "name": "#%%\n"
    }
   },
   "outputs": [
    {
     "data": {
      "text/plain": [
       "Text(0, 0.5, 'Proportion of Weekly Results')"
      ]
     },
     "execution_count": 9,
     "metadata": {},
     "output_type": "execute_result"
    },
    {
     "data": {
      "image/png": "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\n",
      "text/plain": [
       "<Figure size 432x288 with 1 Axes>"
      ]
     },
     "metadata": {
      "needs_background": "light"
     },
     "output_type": "display_data"
    }
   ],
   "source": [
    "ax = data[['Date', 'Proportion of Weekly Results']].groupby('Date').mean().plot(kind='bar', legend=None)\n",
    "ax.set_ylabel(\"Proportion of Weekly Results\")"
   ]
  },
  {
   "cell_type": "code",
   "execution_count": 94,
   "metadata": {},
   "outputs": [
    {
     "ename": "ValueError",
     "evalue": "time data '5' does not match format '%yyyy-%mm-%dd' (match)",
     "output_type": "error",
     "traceback": [
      "\u001B[0;31m---------------------------------------------------------------------------\u001B[0m",
      "\u001B[0;31mTypeError\u001B[0m                                 Traceback (most recent call last)",
      "File \u001B[0;32m~/opt/anaconda3/lib/python3.9/site-packages/pandas/core/tools/datetimes.py:510\u001B[0m, in \u001B[0;36m_to_datetime_with_format\u001B[0;34m(arg, orig_arg, name, tz, fmt, exact, errors, infer_datetime_format)\u001B[0m\n\u001B[1;32m    509\u001B[0m \u001B[38;5;28;01mtry\u001B[39;00m:\n\u001B[0;32m--> 510\u001B[0m     values, tz \u001B[38;5;241m=\u001B[39m \u001B[43mconversion\u001B[49m\u001B[38;5;241;43m.\u001B[39;49m\u001B[43mdatetime_to_datetime64\u001B[49m\u001B[43m(\u001B[49m\u001B[43marg\u001B[49m\u001B[43m)\u001B[49m\n\u001B[1;32m    511\u001B[0m     dta \u001B[38;5;241m=\u001B[39m DatetimeArray(values, dtype\u001B[38;5;241m=\u001B[39mtz_to_dtype(tz))\n",
      "File \u001B[0;32m~/opt/anaconda3/lib/python3.9/site-packages/pandas/_libs/tslibs/conversion.pyx:360\u001B[0m, in \u001B[0;36mpandas._libs.tslibs.conversion.datetime_to_datetime64\u001B[0;34m()\u001B[0m\n",
      "\u001B[0;31mTypeError\u001B[0m: Unrecognized value type: <class 'int'>",
      "\nDuring handling of the above exception, another exception occurred:\n",
      "\u001B[0;31mValueError\u001B[0m                                Traceback (most recent call last)",
      "Input \u001B[0;32mIn [94]\u001B[0m, in \u001B[0;36m<cell line: 3>\u001B[0;34m()\u001B[0m\n\u001B[1;32m      1\u001B[0m c_df \u001B[38;5;241m=\u001B[39m pd\u001B[38;5;241m.\u001B[39mread_csv(\u001B[38;5;124m'\u001B[39m\u001B[38;5;124mcorrected_data.csv\u001B[39m\u001B[38;5;124m'\u001B[39m)\n\u001B[1;32m      2\u001B[0m c_df\n\u001B[0;32m----> 3\u001B[0m c_df[\u001B[38;5;124m\"\u001B[39m\u001B[38;5;124mDay of Week\u001B[39m\u001B[38;5;124m\"\u001B[39m] \u001B[38;5;241m=\u001B[39m \u001B[43mpd\u001B[49m\u001B[38;5;241;43m.\u001B[39;49m\u001B[43mto_datetime\u001B[49m\u001B[43m(\u001B[49m\u001B[43mdata\u001B[49m\u001B[43m[\u001B[49m\u001B[38;5;124;43m\"\u001B[39;49m\u001B[38;5;124;43mDate\u001B[39;49m\u001B[38;5;124;43m\"\u001B[39;49m\u001B[43m]\u001B[49m\u001B[43m,\u001B[49m\u001B[43m \u001B[49m\u001B[38;5;28;43mformat\u001B[39;49m\u001B[43m \u001B[49m\u001B[38;5;241;43m=\u001B[39;49m\u001B[43m \u001B[49m\u001B[38;5;124;43m\"\u001B[39;49m\u001B[38;5;124;43m%\u001B[39;49m\u001B[38;5;124;43myyyy-\u001B[39;49m\u001B[38;5;124;43m%\u001B[39;49m\u001B[38;5;124;43mmm-\u001B[39;49m\u001B[38;5;132;43;01m%d\u001B[39;49;00m\u001B[38;5;124;43md\u001B[39;49m\u001B[38;5;124;43m\"\u001B[39;49m\u001B[43m)\u001B[49m\u001B[38;5;241m.\u001B[39mdt\u001B[38;5;241m.\u001B[39mday_of_week\n",
      "File \u001B[0;32m~/opt/anaconda3/lib/python3.9/site-packages/pandas/core/tools/datetimes.py:1047\u001B[0m, in \u001B[0;36mto_datetime\u001B[0;34m(arg, errors, dayfirst, yearfirst, utc, format, exact, unit, infer_datetime_format, origin, cache)\u001B[0m\n\u001B[1;32m   1045\u001B[0m             result \u001B[38;5;241m=\u001B[39m arg\u001B[38;5;241m.\u001B[39mtz_localize(tz)\n\u001B[1;32m   1046\u001B[0m \u001B[38;5;28;01melif\u001B[39;00m \u001B[38;5;28misinstance\u001B[39m(arg, ABCSeries):\n\u001B[0;32m-> 1047\u001B[0m     cache_array \u001B[38;5;241m=\u001B[39m \u001B[43m_maybe_cache\u001B[49m\u001B[43m(\u001B[49m\u001B[43marg\u001B[49m\u001B[43m,\u001B[49m\u001B[43m \u001B[49m\u001B[38;5;28;43mformat\u001B[39;49m\u001B[43m,\u001B[49m\u001B[43m \u001B[49m\u001B[43mcache\u001B[49m\u001B[43m,\u001B[49m\u001B[43m \u001B[49m\u001B[43mconvert_listlike\u001B[49m\u001B[43m)\u001B[49m\n\u001B[1;32m   1048\u001B[0m     \u001B[38;5;28;01mif\u001B[39;00m \u001B[38;5;129;01mnot\u001B[39;00m cache_array\u001B[38;5;241m.\u001B[39mempty:\n\u001B[1;32m   1049\u001B[0m         result \u001B[38;5;241m=\u001B[39m arg\u001B[38;5;241m.\u001B[39mmap(cache_array)\n",
      "File \u001B[0;32m~/opt/anaconda3/lib/python3.9/site-packages/pandas/core/tools/datetimes.py:197\u001B[0m, in \u001B[0;36m_maybe_cache\u001B[0;34m(arg, format, cache, convert_listlike)\u001B[0m\n\u001B[1;32m    195\u001B[0m unique_dates \u001B[38;5;241m=\u001B[39m unique(arg)\n\u001B[1;32m    196\u001B[0m \u001B[38;5;28;01mif\u001B[39;00m \u001B[38;5;28mlen\u001B[39m(unique_dates) \u001B[38;5;241m<\u001B[39m \u001B[38;5;28mlen\u001B[39m(arg):\n\u001B[0;32m--> 197\u001B[0m     cache_dates \u001B[38;5;241m=\u001B[39m \u001B[43mconvert_listlike\u001B[49m\u001B[43m(\u001B[49m\u001B[43munique_dates\u001B[49m\u001B[43m,\u001B[49m\u001B[43m \u001B[49m\u001B[38;5;28;43mformat\u001B[39;49m\u001B[43m)\u001B[49m\n\u001B[1;32m    198\u001B[0m     cache_array \u001B[38;5;241m=\u001B[39m Series(cache_dates, index\u001B[38;5;241m=\u001B[39munique_dates)\n\u001B[1;32m    199\u001B[0m     \u001B[38;5;66;03m# GH#39882 and GH#35888 in case of None and NaT we get duplicates\u001B[39;00m\n",
      "File \u001B[0;32m~/opt/anaconda3/lib/python3.9/site-packages/pandas/core/tools/datetimes.py:394\u001B[0m, in \u001B[0;36m_convert_listlike_datetimes\u001B[0;34m(arg, format, name, tz, unit, errors, infer_datetime_format, dayfirst, yearfirst, exact)\u001B[0m\n\u001B[1;32m    391\u001B[0m         \u001B[38;5;28mformat\u001B[39m \u001B[38;5;241m=\u001B[39m \u001B[38;5;28;01mNone\u001B[39;00m\n\u001B[1;32m    393\u001B[0m \u001B[38;5;28;01mif\u001B[39;00m \u001B[38;5;28mformat\u001B[39m \u001B[38;5;129;01mis\u001B[39;00m \u001B[38;5;129;01mnot\u001B[39;00m \u001B[38;5;28;01mNone\u001B[39;00m:\n\u001B[0;32m--> 394\u001B[0m     res \u001B[38;5;241m=\u001B[39m \u001B[43m_to_datetime_with_format\u001B[49m\u001B[43m(\u001B[49m\n\u001B[1;32m    395\u001B[0m \u001B[43m        \u001B[49m\u001B[43marg\u001B[49m\u001B[43m,\u001B[49m\u001B[43m \u001B[49m\u001B[43morig_arg\u001B[49m\u001B[43m,\u001B[49m\u001B[43m \u001B[49m\u001B[43mname\u001B[49m\u001B[43m,\u001B[49m\u001B[43m \u001B[49m\u001B[43mtz\u001B[49m\u001B[43m,\u001B[49m\u001B[43m \u001B[49m\u001B[38;5;28;43mformat\u001B[39;49m\u001B[43m,\u001B[49m\u001B[43m \u001B[49m\u001B[43mexact\u001B[49m\u001B[43m,\u001B[49m\u001B[43m \u001B[49m\u001B[43merrors\u001B[49m\u001B[43m,\u001B[49m\u001B[43m \u001B[49m\u001B[43minfer_datetime_format\u001B[49m\n\u001B[1;32m    396\u001B[0m \u001B[43m    \u001B[49m\u001B[43m)\u001B[49m\n\u001B[1;32m    397\u001B[0m     \u001B[38;5;28;01mif\u001B[39;00m res \u001B[38;5;129;01mis\u001B[39;00m \u001B[38;5;129;01mnot\u001B[39;00m \u001B[38;5;28;01mNone\u001B[39;00m:\n\u001B[1;32m    398\u001B[0m         \u001B[38;5;28;01mreturn\u001B[39;00m res\n",
      "File \u001B[0;32m~/opt/anaconda3/lib/python3.9/site-packages/pandas/core/tools/datetimes.py:514\u001B[0m, in \u001B[0;36m_to_datetime_with_format\u001B[0;34m(arg, orig_arg, name, tz, fmt, exact, errors, infer_datetime_format)\u001B[0m\n\u001B[1;32m    512\u001B[0m     \u001B[38;5;28;01mreturn\u001B[39;00m DatetimeIndex\u001B[38;5;241m.\u001B[39m_simple_new(dta, name\u001B[38;5;241m=\u001B[39mname)\n\u001B[1;32m    513\u001B[0m \u001B[38;5;28;01mexcept\u001B[39;00m (\u001B[38;5;167;01mValueError\u001B[39;00m, \u001B[38;5;167;01mTypeError\u001B[39;00m):\n\u001B[0;32m--> 514\u001B[0m     \u001B[38;5;28;01mraise\u001B[39;00m err\n",
      "File \u001B[0;32m~/opt/anaconda3/lib/python3.9/site-packages/pandas/core/tools/datetimes.py:501\u001B[0m, in \u001B[0;36m_to_datetime_with_format\u001B[0;34m(arg, orig_arg, name, tz, fmt, exact, errors, infer_datetime_format)\u001B[0m\n\u001B[1;32m    498\u001B[0m             \u001B[38;5;28;01mreturn\u001B[39;00m _box_as_indexlike(result, utc\u001B[38;5;241m=\u001B[39mutc, name\u001B[38;5;241m=\u001B[39mname)\n\u001B[1;32m    500\u001B[0m     \u001B[38;5;66;03m# fallback\u001B[39;00m\n\u001B[0;32m--> 501\u001B[0m     res \u001B[38;5;241m=\u001B[39m \u001B[43m_array_strptime_with_fallback\u001B[49m\u001B[43m(\u001B[49m\n\u001B[1;32m    502\u001B[0m \u001B[43m        \u001B[49m\u001B[43marg\u001B[49m\u001B[43m,\u001B[49m\u001B[43m \u001B[49m\u001B[43mname\u001B[49m\u001B[43m,\u001B[49m\u001B[43m \u001B[49m\u001B[43mtz\u001B[49m\u001B[43m,\u001B[49m\u001B[43m \u001B[49m\u001B[43mfmt\u001B[49m\u001B[43m,\u001B[49m\u001B[43m \u001B[49m\u001B[43mexact\u001B[49m\u001B[43m,\u001B[49m\u001B[43m \u001B[49m\u001B[43merrors\u001B[49m\u001B[43m,\u001B[49m\u001B[43m \u001B[49m\u001B[43minfer_datetime_format\u001B[49m\n\u001B[1;32m    503\u001B[0m \u001B[43m    \u001B[49m\u001B[43m)\u001B[49m\n\u001B[1;32m    504\u001B[0m     \u001B[38;5;28;01mreturn\u001B[39;00m res\n\u001B[1;32m    506\u001B[0m \u001B[38;5;28;01mexcept\u001B[39;00m \u001B[38;5;167;01mValueError\u001B[39;00m \u001B[38;5;28;01mas\u001B[39;00m err:\n\u001B[1;32m    507\u001B[0m     \u001B[38;5;66;03m# Fallback to try to convert datetime objects if timezone-aware\u001B[39;00m\n\u001B[1;32m    508\u001B[0m     \u001B[38;5;66;03m#  datetime objects are found without passing `utc=True`\u001B[39;00m\n",
      "File \u001B[0;32m~/opt/anaconda3/lib/python3.9/site-packages/pandas/core/tools/datetimes.py:437\u001B[0m, in \u001B[0;36m_array_strptime_with_fallback\u001B[0;34m(arg, name, tz, fmt, exact, errors, infer_datetime_format)\u001B[0m\n\u001B[1;32m    434\u001B[0m utc \u001B[38;5;241m=\u001B[39m tz \u001B[38;5;241m==\u001B[39m \u001B[38;5;124m\"\u001B[39m\u001B[38;5;124mutc\u001B[39m\u001B[38;5;124m\"\u001B[39m\n\u001B[1;32m    436\u001B[0m \u001B[38;5;28;01mtry\u001B[39;00m:\n\u001B[0;32m--> 437\u001B[0m     result, timezones \u001B[38;5;241m=\u001B[39m \u001B[43marray_strptime\u001B[49m\u001B[43m(\u001B[49m\u001B[43marg\u001B[49m\u001B[43m,\u001B[49m\u001B[43m \u001B[49m\u001B[43mfmt\u001B[49m\u001B[43m,\u001B[49m\u001B[43m \u001B[49m\u001B[43mexact\u001B[49m\u001B[38;5;241;43m=\u001B[39;49m\u001B[43mexact\u001B[49m\u001B[43m,\u001B[49m\u001B[43m \u001B[49m\u001B[43merrors\u001B[49m\u001B[38;5;241;43m=\u001B[39;49m\u001B[43merrors\u001B[49m\u001B[43m)\u001B[49m\n\u001B[1;32m    438\u001B[0m     \u001B[38;5;28;01mif\u001B[39;00m \u001B[38;5;124m\"\u001B[39m\u001B[38;5;124m%\u001B[39m\u001B[38;5;124mZ\u001B[39m\u001B[38;5;124m\"\u001B[39m \u001B[38;5;129;01min\u001B[39;00m fmt \u001B[38;5;129;01mor\u001B[39;00m \u001B[38;5;124m\"\u001B[39m\u001B[38;5;124m%\u001B[39m\u001B[38;5;124mz\u001B[39m\u001B[38;5;124m\"\u001B[39m \u001B[38;5;129;01min\u001B[39;00m fmt:\n\u001B[1;32m    439\u001B[0m         \u001B[38;5;28;01mreturn\u001B[39;00m _return_parsed_timezone_results(result, timezones, tz, name)\n",
      "File \u001B[0;32m~/opt/anaconda3/lib/python3.9/site-packages/pandas/_libs/tslibs/strptime.pyx:150\u001B[0m, in \u001B[0;36mpandas._libs.tslibs.strptime.array_strptime\u001B[0;34m()\u001B[0m\n",
      "\u001B[0;31mValueError\u001B[0m: time data '5' does not match format '%yyyy-%mm-%dd' (match)"
     ]
    }
   ],
   "source": []
  },
  {
   "cell_type": "code",
   "execution_count": 86,
   "metadata": {},
   "outputs": [
    {
     "data": {
      "text/plain": [
       "('Difficulty Score',\n",
       " Date                              Friday\n",
       " Contest number                       454\n",
       " Word                               parer\n",
       " Number of  reported results        37309\n",
       " Number in hard mode                 4130\n",
       " 1 try                                  0\n",
       " 2 tries                                0\n",
       " 3 tries                                4\n",
       " 4 tries                               11\n",
       " 5 tries                               15\n",
       " 6 tries                               22\n",
       " 7 or more tries (X)                   48\n",
       " Proportion of Weekly Results    0.167497\n",
       " Difficulty Score                5.764026\n",
       " Name: 106, dtype: object)"
      ]
     },
     "execution_count": 86,
     "metadata": {},
     "output_type": "execute_result"
    }
   ],
   "source": [
    "def diffScore(x) :\n",
    "    return 7 * (1/ (7 - x) - 1/6)\n",
    "tryData = data.filter([\"1 try\", \"2 tries\", \"3 tries\", \"4 tries\", \"5 tries\", \"6 tries\", \"7 or more tries (X)\"], axis = 1)\n",
    "tryData[\"sum\"] = tryData.sum(axis=\"columns\")\n",
    "\n",
    "\n",
    "i = 1\n",
    "for (colName, val) in tryData.iteritems():\n",
    "    if colName != \"sum\":\n",
    "        tryData[colName] = tryData[colName] / tryData[\"sum\"]\n",
    "        tryData[colName] = tryData[colName] * i\n",
    "        i += 1\n",
    "tryData.drop([\"sum\"], axis = 1, inplace = True)\n",
    "tryData\n",
    "\n",
    "data[\"Difficulty Score\"] = tryData.sum(axis = 1)\n",
    "data[\"Difficulty Score\"] = data[\"Difficulty Score\"].apply(diffScore)\n",
    "col = \"Difficulty Score\"\n",
    "max_x = data.loc[data[col].idxmax()]\n",
    "\n",
    "(col, max_x)"
   ]
  },
  {
   "cell_type": "code",
   "execution_count": 84,
   "metadata": {},
   "outputs": [
    {
     "data": {
      "text/plain": [
       "(array([106., 182.,  56.,   8.,   2.,   2.,   0.,   0.,   0.,   1.]),\n",
       " array([0.64273281, 1.15486217, 1.66699153, 2.17912089, 2.69125025,\n",
       "        3.20337961, 3.71550897, 4.22763833, 4.73976768, 5.25189704,\n",
       "        5.7640264 ]),\n",
       " <BarContainer object of 10 artists>)"
      ]
     },
     "execution_count": 84,
     "metadata": {},
     "output_type": "execute_result"
    },
    {
     "data": {
      "image/png": "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\n",
      "text/plain": [
       "<Figure size 432x288 with 1 Axes>"
      ]
     },
     "metadata": {
      "needs_background": "light"
     },
     "output_type": "display_data"
    }
   ],
   "source": [
    "plt.hist(data[\"Difficulty Score\"])"
   ]
  },
  {
   "cell_type": "code",
   "execution_count": null,
   "metadata": {},
   "outputs": [],
   "source": []
  }
 ],
 "metadata": {
  "kernelspec": {
   "display_name": "Python 3 (ipykernel)",
   "language": "python",
   "name": "python3"
  },
  "language_info": {
   "codemirror_mode": {
    "name": "ipython",
    "version": 3
   },
   "file_extension": ".py",
   "mimetype": "text/x-python",
   "name": "python",
   "nbconvert_exporter": "python",
   "pygments_lexer": "ipython3",
   "version": "3.9.12"
  }
 },
 "nbformat": 4,
 "nbformat_minor": 4
}